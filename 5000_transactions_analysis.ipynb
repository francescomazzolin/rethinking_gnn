{
  "nbformat": 4,
  "nbformat_minor": 0,
  "metadata": {
    "colab": {
      "provenance": []
    },
    "kernelspec": {
      "name": "python3",
      "display_name": "Python 3"
    },
    "language_info": {
      "name": "python"
    }
  },
  "cells": [
    {
      "cell_type": "code",
      "execution_count": 1,
      "metadata": {
        "colab": {
          "base_uri": "https://localhost:8080/"
        },
        "id": "UWOS0y0UVsiB",
        "outputId": "4d738219-9cfb-4bca-a000-fe4bc3e9b1c9"
      },
      "outputs": [
        {
          "output_type": "stream",
          "name": "stdout",
          "text": [
            "Requirement already satisfied: torch in /usr/local/lib/python3.10/dist-packages (2.5.1+cu121)\n",
            "Requirement already satisfied: filelock in /usr/local/lib/python3.10/dist-packages (from torch) (3.16.1)\n",
            "Requirement already satisfied: typing-extensions>=4.8.0 in /usr/local/lib/python3.10/dist-packages (from torch) (4.12.2)\n",
            "Requirement already satisfied: networkx in /usr/local/lib/python3.10/dist-packages (from torch) (3.4.2)\n",
            "Requirement already satisfied: jinja2 in /usr/local/lib/python3.10/dist-packages (from torch) (3.1.4)\n",
            "Requirement already satisfied: fsspec in /usr/local/lib/python3.10/dist-packages (from torch) (2024.10.0)\n",
            "Requirement already satisfied: sympy==1.13.1 in /usr/local/lib/python3.10/dist-packages (from torch) (1.13.1)\n",
            "Requirement already satisfied: mpmath<1.4,>=1.1.0 in /usr/local/lib/python3.10/dist-packages (from sympy==1.13.1->torch) (1.3.0)\n",
            "Requirement already satisfied: MarkupSafe>=2.0 in /usr/local/lib/python3.10/dist-packages (from jinja2->torch) (3.0.2)\n",
            "Requirement already satisfied: sympy in /usr/local/lib/python3.10/dist-packages (1.13.1)\n",
            "Requirement already satisfied: scikit-learn in /usr/local/lib/python3.10/dist-packages (1.6.0)\n",
            "Requirement already satisfied: mpmath<1.4,>=1.1.0 in /usr/local/lib/python3.10/dist-packages (from sympy) (1.3.0)\n",
            "Requirement already satisfied: numpy>=1.19.5 in /usr/local/lib/python3.10/dist-packages (from scikit-learn) (1.26.4)\n",
            "Requirement already satisfied: scipy>=1.6.0 in /usr/local/lib/python3.10/dist-packages (from scikit-learn) (1.13.1)\n",
            "Requirement already satisfied: joblib>=1.2.0 in /usr/local/lib/python3.10/dist-packages (from scikit-learn) (1.4.2)\n",
            "Requirement already satisfied: threadpoolctl>=3.1.0 in /usr/local/lib/python3.10/dist-packages (from scikit-learn) (3.5.0)\n"
          ]
        }
      ],
      "source": [
        "!pip install torch\n",
        "\n",
        "# Install other dependencies\n",
        "!pip install sympy scikit-learn\n",
        "\n",
        "import pandas as pd\n",
        "import matplotlib.pyplot as plt\n",
        "from IPython.display import Markdown"
      ]
    },
    {
      "cell_type": "code",
      "source": [
        "from google.colab import drive\n",
        "drive.mount('/content/drive')"
      ],
      "metadata": {
        "colab": {
          "base_uri": "https://localhost:8080/"
        },
        "id": "oK6sX2b8WV1q",
        "outputId": "ce1de4d4-2ddd-42db-831c-ff0d833c1e0c"
      },
      "execution_count": 2,
      "outputs": [
        {
          "output_type": "stream",
          "name": "stdout",
          "text": [
            "Mounted at /content/drive\n"
          ]
        }
      ]
    },
    {
      "cell_type": "code",
      "source": [
        "data_5000 = pd.read_csv('/content/drive/My Drive/5000_transactions_2018_REVIEWED.csv')"
      ],
      "metadata": {
        "id": "7nguV_fAWY_Z"
      },
      "execution_count": 4,
      "outputs": []
    },
    {
      "cell_type": "code",
      "source": [
        "data_5000.iloc[0,:]"
      ],
      "metadata": {
        "colab": {
          "base_uri": "https://localhost:8080/",
          "height": 962
        },
        "id": "fOycOANxWxZ8",
        "outputId": "d7f2c523-5426-4b6a-f0a4-7287cf5da963"
      },
      "execution_count": 8,
      "outputs": [
        {
          "output_type": "execute_result",
          "data": {
            "text/plain": [
              "transaction_datetime                                             2018-02-24 02:10:00\n",
              "transaction type                                                      Wired National\n",
              "tx_uid                                                                      US-84349\n",
              "tx_agent_type                                                         Natural Person\n",
              "tx_name                                                                 Amber Duncan\n",
              "tx_address                                002 Ball Fall Suite 468 Ginaland, TX 46302\n",
              "tx_country_code                                                                   US\n",
              "tx_country_name                                                        United States\n",
              "tx_currency                                                                      USD\n",
              "tx_bank                                                                   US_BANK_31\n",
              "tx_iban                                                       US05HFBH15852241361333\n",
              "tx_amount                                                                   42758.86\n",
              "rx_uid                                                                      US-cb4b0\n",
              "rx_agent_type                                                                Company\n",
              "rx_name                                                                  Charles PLC\n",
              "rx_address                                           Unit 2109 Box 2629 DPO AP 18615\n",
              "rx_country_code                                                                   US\n",
              "rx_country_name                                                        United States\n",
              "rx_currency                                                                      USD\n",
              "rx_bank                                                                   US_BANK_35\n",
              "rx_iban                                                       US96YXYP49708079250731\n",
              "rx_amount                                                                   42758.86\n",
              "transaction_status                                                     Not Suspected\n",
              "AI Detection Status                                                      Not Flagged\n",
              "AI explanation                     Not flagged country and not part of a Money La...\n",
              "Probability:part_of_aggregation                                               0.1425\n",
              "Probability:part_of_cycle                                                   0.022532\n",
              "Probability:part_of_smurfing                                                0.089994\n",
              "Name: 0, dtype: object"
            ],
            "text/html": [
              "<div>\n",
              "<style scoped>\n",
              "    .dataframe tbody tr th:only-of-type {\n",
              "        vertical-align: middle;\n",
              "    }\n",
              "\n",
              "    .dataframe tbody tr th {\n",
              "        vertical-align: top;\n",
              "    }\n",
              "\n",
              "    .dataframe thead th {\n",
              "        text-align: right;\n",
              "    }\n",
              "</style>\n",
              "<table border=\"1\" class=\"dataframe\">\n",
              "  <thead>\n",
              "    <tr style=\"text-align: right;\">\n",
              "      <th></th>\n",
              "      <th>0</th>\n",
              "    </tr>\n",
              "  </thead>\n",
              "  <tbody>\n",
              "    <tr>\n",
              "      <th>transaction_datetime</th>\n",
              "      <td>2018-02-24 02:10:00</td>\n",
              "    </tr>\n",
              "    <tr>\n",
              "      <th>transaction type</th>\n",
              "      <td>Wired National</td>\n",
              "    </tr>\n",
              "    <tr>\n",
              "      <th>tx_uid</th>\n",
              "      <td>US-84349</td>\n",
              "    </tr>\n",
              "    <tr>\n",
              "      <th>tx_agent_type</th>\n",
              "      <td>Natural Person</td>\n",
              "    </tr>\n",
              "    <tr>\n",
              "      <th>tx_name</th>\n",
              "      <td>Amber Duncan</td>\n",
              "    </tr>\n",
              "    <tr>\n",
              "      <th>tx_address</th>\n",
              "      <td>002 Ball Fall Suite 468 Ginaland, TX 46302</td>\n",
              "    </tr>\n",
              "    <tr>\n",
              "      <th>tx_country_code</th>\n",
              "      <td>US</td>\n",
              "    </tr>\n",
              "    <tr>\n",
              "      <th>tx_country_name</th>\n",
              "      <td>United States</td>\n",
              "    </tr>\n",
              "    <tr>\n",
              "      <th>tx_currency</th>\n",
              "      <td>USD</td>\n",
              "    </tr>\n",
              "    <tr>\n",
              "      <th>tx_bank</th>\n",
              "      <td>US_BANK_31</td>\n",
              "    </tr>\n",
              "    <tr>\n",
              "      <th>tx_iban</th>\n",
              "      <td>US05HFBH15852241361333</td>\n",
              "    </tr>\n",
              "    <tr>\n",
              "      <th>tx_amount</th>\n",
              "      <td>42758.86</td>\n",
              "    </tr>\n",
              "    <tr>\n",
              "      <th>rx_uid</th>\n",
              "      <td>US-cb4b0</td>\n",
              "    </tr>\n",
              "    <tr>\n",
              "      <th>rx_agent_type</th>\n",
              "      <td>Company</td>\n",
              "    </tr>\n",
              "    <tr>\n",
              "      <th>rx_name</th>\n",
              "      <td>Charles PLC</td>\n",
              "    </tr>\n",
              "    <tr>\n",
              "      <th>rx_address</th>\n",
              "      <td>Unit 2109 Box 2629 DPO AP 18615</td>\n",
              "    </tr>\n",
              "    <tr>\n",
              "      <th>rx_country_code</th>\n",
              "      <td>US</td>\n",
              "    </tr>\n",
              "    <tr>\n",
              "      <th>rx_country_name</th>\n",
              "      <td>United States</td>\n",
              "    </tr>\n",
              "    <tr>\n",
              "      <th>rx_currency</th>\n",
              "      <td>USD</td>\n",
              "    </tr>\n",
              "    <tr>\n",
              "      <th>rx_bank</th>\n",
              "      <td>US_BANK_35</td>\n",
              "    </tr>\n",
              "    <tr>\n",
              "      <th>rx_iban</th>\n",
              "      <td>US96YXYP49708079250731</td>\n",
              "    </tr>\n",
              "    <tr>\n",
              "      <th>rx_amount</th>\n",
              "      <td>42758.86</td>\n",
              "    </tr>\n",
              "    <tr>\n",
              "      <th>transaction_status</th>\n",
              "      <td>Not Suspected</td>\n",
              "    </tr>\n",
              "    <tr>\n",
              "      <th>AI Detection Status</th>\n",
              "      <td>Not Flagged</td>\n",
              "    </tr>\n",
              "    <tr>\n",
              "      <th>AI explanation</th>\n",
              "      <td>Not flagged country and not part of a Money La...</td>\n",
              "    </tr>\n",
              "    <tr>\n",
              "      <th>Probability:part_of_aggregation</th>\n",
              "      <td>0.1425</td>\n",
              "    </tr>\n",
              "    <tr>\n",
              "      <th>Probability:part_of_cycle</th>\n",
              "      <td>0.022532</td>\n",
              "    </tr>\n",
              "    <tr>\n",
              "      <th>Probability:part_of_smurfing</th>\n",
              "      <td>0.089994</td>\n",
              "    </tr>\n",
              "  </tbody>\n",
              "</table>\n",
              "</div><br><label><b>dtype:</b> object</label>"
            ]
          },
          "metadata": {},
          "execution_count": 8
        }
      ]
    }
  ]
}